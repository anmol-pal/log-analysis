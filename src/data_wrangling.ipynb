{
 "cells": [
  {
   "cell_type": "markdown",
   "id": "2023ab33",
   "metadata": {},
   "source": [
    "# Welcome to CS540 final project"
   ]
  },
  {
   "cell_type": "code",
   "execution_count": 1,
   "id": "a6b43ce6",
   "metadata": {},
   "outputs": [
    {
     "name": "stderr",
     "output_type": "stream",
     "text": [
      "Setting default log level to \"WARN\".\n",
      "To adjust logging level use sc.setLogLevel(newLevel). For SparkR, use setLogLevel(newLevel).\n"
     ]
    },
    {
     "name": "stdout",
     "output_type": "stream",
     "text": [
      "23/02/02 06:43:53 WARN NativeCodeLoader: Unable to load native-hadoop library for your platform... using builtin-java classes where applicable\n"
     ]
    },
    {
     "name": "stderr",
     "output_type": "stream",
     "text": [
      "/opt/homebrew/Caskroom/miniforge/base/lib/python3.10/site-packages/pyspark/sql/context.py:112: FutureWarning: Deprecated in 3.0.0. Use SparkSession.builder.getOrCreate() instead.\n",
      "  warnings.warn(\n"
     ]
    }
   ],
   "source": [
    "from pyspark.context import SparkContext\n",
    "from pyspark.sql.context import SQLContext\n",
    "from pyspark.sql.session import SparkSession\n",
    "\n",
    "\n",
    "sc = SparkContext()\n",
    "sqlContext = SQLContext(sc)\n",
    "spark = SparkSession(sc)"
   ]
  },
  {
   "cell_type": "code",
   "execution_count": 2,
   "id": "c01255fd",
   "metadata": {},
   "outputs": [
    {
     "data": {
      "text/html": [
       "\n",
       "            <div>\n",
       "                <p><b>SparkSession - in-memory</b></p>\n",
       "                \n",
       "        <div>\n",
       "            <p><b>SparkContext</b></p>\n",
       "\n",
       "            <p><a href=\"http://anmols-air.lan:4040\">Spark UI</a></p>\n",
       "\n",
       "            <dl>\n",
       "              <dt>Version</dt>\n",
       "                <dd><code>v3.3.1</code></dd>\n",
       "              <dt>Master</dt>\n",
       "                <dd><code>local[*]</code></dd>\n",
       "              <dt>AppName</dt>\n",
       "                <dd><code>pyspark-shell</code></dd>\n",
       "            </dl>\n",
       "        </div>\n",
       "        \n",
       "            </div>\n",
       "        "
      ],
      "text/plain": [
       "<pyspark.sql.session.SparkSession at 0x1119098a0>"
      ]
     },
     "execution_count": 2,
     "metadata": {},
     "output_type": "execute_result"
    }
   ],
   "source": [
    "spark"
   ]
  },
  {
   "cell_type": "code",
   "execution_count": 3,
   "id": "6be1b6c4",
   "metadata": {},
   "outputs": [],
   "source": [
    "# load up other dependencies\n",
    "import re\n",
    "import glob"
   ]
  },
  {
   "cell_type": "code",
   "execution_count": 4,
   "id": "d0fe7599",
   "metadata": {},
   "outputs": [
    {
     "data": {
      "text/plain": [
       "['large_log.txt']"
      ]
     },
     "execution_count": 4,
     "metadata": {},
     "output_type": "execute_result"
    }
   ],
   "source": [
    "raw_data_files=glob.glob('large_log.txt')\n",
    "raw_data_files"
   ]
  },
  {
   "cell_type": "markdown",
   "id": "65ea7b70",
   "metadata": {},
   "source": [
    "### Schema of data frame"
   ]
  },
  {
   "cell_type": "code",
   "execution_count": 5,
   "id": "a8d92b39",
   "metadata": {},
   "outputs": [
    {
     "name": "stdout",
     "output_type": "stream",
     "text": [
      "root\n",
      " |-- value: string (nullable = true)\n",
      "\n"
     ]
    },
    {
     "name": "stderr",
     "output_type": "stream",
     "text": [
      "\r",
      "[Stage 0:>                                                          (0 + 8) / 8]\r"
     ]
    },
    {
     "name": "stdout",
     "output_type": "stream",
     "text": [
      "(3727592, 1)\n"
     ]
    },
    {
     "name": "stderr",
     "output_type": "stream",
     "text": [
      "\r",
      "                                                                                \r"
     ]
    }
   ],
   "source": [
    "base_df=spark.read.text(raw_data_files)\n",
    "base_df.printSchema()\n",
    "type(base_df)\n",
    "print((base_df.count(), len(base_df.columns)))"
   ]
  },
  {
   "cell_type": "code",
   "execution_count": 11,
   "id": "4d8dc202",
   "metadata": {},
   "outputs": [
    {
     "data": {
      "text/plain": [
       "['',\n",
       " '13.66.139.0 - - [19/Dec/2020:13:57:26 +0100] \"GET /index.php?option=com_phocagallery&view=category&id=1:almhuette-raith&Itemid=53 HTTP/1.1\" 200 32653 \"-\" \"Mozilla/5.0 (compatible; bingbot/2.0; +http://www.bing.com/bingbot.htm)\" \"-\"',\n",
       " '157.48.153.185 - - [19/Dec/2020:14:08:06 +0100] \"GET /apache-log/access.log HTTP/1.1\" 200 233 \"-\" \"Mozilla/5.0 (Windows NT 6.3; Win64; x64) AppleWebKit/537.36 (KHTML, like Gecko) Chrome/87.0.4280.88 Safari/537.36\" \"-\"']"
      ]
     },
     "execution_count": 11,
     "metadata": {},
     "output_type": "execute_result"
    }
   ],
   "source": [
    "sample_logs=[item['value'] for item in base_df.take(3)]\n",
    "sample_logs"
   ]
  },
  {
   "cell_type": "markdown",
   "id": "ffaf0b15",
   "metadata": {},
   "source": [
    "## Extracting Patterns"
   ]
  },
  {
   "cell_type": "code",
   "execution_count": 12,
   "id": "293beb13",
   "metadata": {},
   "outputs": [
    {
     "data": {
      "text/plain": [
       "['no match', '13.66.139.0', '157.48.153.185']"
      ]
     },
     "execution_count": 12,
     "metadata": {},
     "output_type": "execute_result"
    }
   ],
   "source": [
    "host_pattern= r'(^\\S+\\.[\\S+\\.]+\\S+)\\s'\n",
    "hosts= [re.search(host_pattern, item).group(1)\n",
    "       if re.search(host_pattern,item)\n",
    "        else 'no match'\n",
    "        for item in sample_logs\n",
    "       ]\n",
    "hosts"
   ]
  },
  {
   "cell_type": "code",
   "execution_count": 13,
   "id": "1849dd49",
   "metadata": {},
   "outputs": [
    {
     "data": {
      "text/plain": [
       "['No TS', '19/Dec/2020:13:57:26 +0100', '19/Dec/2020:14:08:06 +0100']"
      ]
     },
     "execution_count": 13,
     "metadata": {},
     "output_type": "execute_result"
    }
   ],
   "source": [
    "#Extracting timestamps\n",
    "ts_pattern = r\"\\[([0-9]{2}/[a-zA-Z]{3}/[0-9]{4}:[0-9]{2}:[0-9]{2}:[0-9]{2} [+-][0-9]{4})]\"\n",
    "timestamps = [re.search(ts_pattern, item).group(1)\n",
    "              if re.search(ts_pattern, item) \n",
    "              else 'No TS' for item in sample_logs]\n",
    "timestamps"
   ]
  },
  {
   "cell_type": "code",
   "execution_count": 14,
   "id": "7f516cc1",
   "metadata": {},
   "outputs": [
    {
     "data": {
      "text/plain": [
       "['No Match',\n",
       " ('GET',\n",
       "  '/index.php?option=com_phocagallery&view=category&id=1:almhuette-raith&Itemid=53',\n",
       "  'HTTP/1.1'),\n",
       " ('GET', '/apache-log/access.log', 'HTTP/1.1')]"
      ]
     },
     "execution_count": 14,
     "metadata": {},
     "output_type": "execute_result"
    }
   ],
   "source": [
    "method_uri_protocol_pattern = r'\\\"(\\S+)\\s(\\S+)\\s*(\\S*)\\\"'\n",
    "method_uri_protocol = [re.search(method_uri_protocol_pattern, item).groups()\n",
    "if re.search(method_uri_protocol_pattern,item)\n",
    "else 'No Match'\n",
    "for item in sample_logs]\n",
    "method_uri_protocol"
   ]
  },
  {
   "cell_type": "code",
   "execution_count": 15,
   "id": "a3123580",
   "metadata": {},
   "outputs": [
    {
     "data": {
      "text/plain": [
       "['No Match', '200', '200']"
      ]
     },
     "execution_count": 15,
     "metadata": {},
     "output_type": "execute_result"
    }
   ],
   "source": [
    "#HTTP/1.1\" 200\n",
    "status_pattern = r\" [0-9]{3} \"\n",
    "status= [re.search(status_pattern, item).group(0)[1:-1]\n",
    "         if re.search(status_pattern,item)\n",
    "         else \"No Match\"\n",
    "        for item in sample_logs]\n",
    "status"
   ]
  },
  {
   "cell_type": "code",
   "execution_count": 16,
   "id": "fedc1b97",
   "metadata": {},
   "outputs": [
    {
     "data": {
      "text/plain": [
       "['Null', '32653', 'Null']"
      ]
     },
     "execution_count": 16,
     "metadata": {},
     "output_type": "execute_result"
    }
   ],
   "source": [
    "content_size_pattern=r\" [0-9]{4}[0-9]* \"\n",
    "content_size = [re.search(content_size_pattern, item).group(0)[1:-1]\n",
    "                if re.search(content_size_pattern, item)\n",
    "                else \"Null\"\n",
    "               for item in sample_logs]\n",
    "content_size"
   ]
  },
  {
   "cell_type": "code",
   "execution_count": 17,
   "id": "0dc86f5b",
   "metadata": {},
   "outputs": [
    {
     "data": {
      "text/plain": [
       "['Null',\n",
       " '\"-\" \"Mozilla/5.0 (compatible; bingbot/2.0; +http://www.bing.com/bingbot.htm)\" \"-\"',\n",
       " '\"-\" \"Mozilla/5.0 (Windows NT 6.3; Win64; x64) AppleWebKit/537.36 (KHTML, like Gecko) Chrome/87.0.4280.88 Safari/537.36\" \"-\"']"
      ]
     },
     "execution_count": 17,
     "metadata": {},
     "output_type": "execute_result"
    }
   ],
   "source": [
    "request_device_pattern=r'((\\\"http[\\S]*\\\")|(\\\"-\\\"))[\\S\\s]*\\\"-\\\"'\n",
    "request_device=[re.search(request_device_pattern, item).group(0)\n",
    "if re.search(request_device_pattern,item)\n",
    "else \"Null\"\n",
    "for item in sample_logs]\n",
    "request_device"
   ]
  },
  {
   "cell_type": "code",
   "execution_count": 21,
   "id": "55f436a5",
   "metadata": {},
   "outputs": [
    {
     "name": "stdout",
     "output_type": "stream",
     "text": [
      "+-----------+--------------------+------+--------------------+--------+------+------------+--------------------+\n",
      "|       Host|           Timestamp|Method|            Endpoint|Protocol|Status|Content_size|   Requesting_Device|\n",
      "+-----------+--------------------+------+--------------------+--------+------+------------+--------------------+\n",
      "|           |                    |      |                    |        |  null|        null|                    |\n",
      "|13.66.139.0|19/Dec/2020:13:57...|   GET|/index.php?option...|HTTP/1.1|   200|       32653|\"-\" \"Mozilla/5.0 ...|\n",
      "+-----------+--------------------+------+--------------------+--------+------+------------+--------------------+\n",
      "only showing top 2 rows\n",
      "\n"
     ]
    },
    {
     "name": "stderr",
     "output_type": "stream",
     "text": [
      "                                                                                \r"
     ]
    },
    {
     "data": {
      "text/plain": [
       "DataFrame[summary: string, Host: string, Timestamp: string, Method: string, Endpoint: string, Protocol: string, Status: string, Content_size: string, Requesting_Device: string]"
      ]
     },
     "execution_count": 21,
     "metadata": {},
     "output_type": "execute_result"
    }
   ],
   "source": [
    "from pyspark.sql.functions import regexp_extract\n",
    "logs_df = base_df.select(regexp_extract('value',host_pattern,1).alias('Host'),\n",
    "                         regexp_extract('value',ts_pattern,1).alias('Timestamp'),\n",
    "                         regexp_extract('value',method_uri_protocol_pattern,1).alias('Method'),\n",
    "                         regexp_extract('value',method_uri_protocol_pattern,2).alias('Endpoint'),\n",
    "                         regexp_extract('value',method_uri_protocol_pattern,3).alias('Protocol'),\n",
    "                         regexp_extract('value',status_pattern,0).cast('integer').alias('Status'),\n",
    "                         regexp_extract('value',content_size_pattern,0).cast('integer').alias('Content_size'),\n",
    "                         regexp_extract('value',request_device_pattern,0).alias('Requesting_Device')\n",
    "                        )                         \n",
    "logs_df.show(2,truncate=True)\n",
    "logs_df.describe()"
   ]
  },
  {
   "cell_type": "code",
   "execution_count": 22,
   "id": "2604202e",
   "metadata": {},
   "outputs": [
    {
     "name": "stdout",
     "output_type": "stream",
     "text": [
      "(3727592, 8)\n"
     ]
    }
   ],
   "source": [
    "print((logs_df.count(), len(logs_df.columns)))"
   ]
  },
  {
   "cell_type": "code",
   "execution_count": 23,
   "id": "6bcc05b7",
   "metadata": {},
   "outputs": [
    {
     "name": "stdout",
     "output_type": "stream",
     "text": [
      "+--------------+\n",
      "|          host|\n",
      "+--------------+\n",
      "|              |\n",
      "|   13.66.139.0|\n",
      "|157.48.153.185|\n",
      "|157.48.153.185|\n",
      "|216.244.66.230|\n",
      "|  54.36.148.92|\n",
      "| 92.101.35.224|\n",
      "|73.166.162.225|\n",
      "|73.166.162.225|\n",
      "| 54.36.148.108|\n",
      "|   54.36.148.1|\n",
      "|162.158.203.24|\n",
      "|  35.237.4.214|\n",
      "| 42.236.10.125|\n",
      "| 42.236.10.125|\n",
      "| 42.236.10.125|\n",
      "| 42.236.10.125|\n",
      "| 42.236.10.117|\n",
      "| 42.236.10.114|\n",
      "| 42.236.10.114|\n",
      "+--------------+\n",
      "only showing top 20 rows\n",
      "\n"
     ]
    }
   ],
   "source": [
    "logs_df.select('host').show()"
   ]
  },
  {
   "cell_type": "markdown",
   "id": "2fe52864",
   "metadata": {},
   "source": [
    "## Storing the wrangled data to a csv"
   ]
  },
  {
   "cell_type": "code",
   "execution_count": 21,
   "id": "cb03688b",
   "metadata": {},
   "outputs": [
    {
     "name": "stderr",
     "output_type": "stream",
     "text": [
      "                                                                                \r"
     ]
    }
   ],
   "source": [
    "logs_df.repartition(1).write.options(header='True'\n",
    "                                     , delimiter='\\t'\n",
    "                                     , lineSep=';'\n",
    "                                    ).csv('wrangled_log')"
   ]
  },
  {
   "cell_type": "code",
   "execution_count": 36,
   "id": "009ec99d",
   "metadata": {},
   "outputs": [
    {
     "data": {
      "text/plain": [
       "3727592"
      ]
     },
     "execution_count": 36,
     "metadata": {},
     "output_type": "execute_result"
    }
   ],
   "source": [
    "out_df = logs_df.select('Timestamp','Host')\n",
    "out_df.count()"
   ]
  },
  {
   "cell_type": "code",
   "execution_count": 37,
   "id": "f8208b87",
   "metadata": {},
   "outputs": [
    {
     "name": "stdout",
     "output_type": "stream",
     "text": [
      "+--------------------+--------------+\n",
      "|           Timestamp|          Host|\n",
      "+--------------------+--------------+\n",
      "|                    |              |\n",
      "|19/Dec/2020:13:57...|   13.66.139.0|\n",
      "|19/Dec/2020:14:08...|157.48.153.185|\n",
      "|19/Dec/2020:14:08...|157.48.153.185|\n",
      "|19/Dec/2020:14:14...|216.244.66.230|\n",
      "|19/Dec/2020:14:16...|  54.36.148.92|\n",
      "|19/Dec/2020:14:29...| 92.101.35.224|\n",
      "|19/Dec/2020:14:58...|73.166.162.225|\n",
      "|19/Dec/2020:14:58...|73.166.162.225|\n",
      "|19/Dec/2020:15:09...| 54.36.148.108|\n",
      "|19/Dec/2020:15:09...|   54.36.148.1|\n",
      "|19/Dec/2020:15:16...|162.158.203.24|\n",
      "|19/Dec/2020:15:22...|  35.237.4.214|\n",
      "|19/Dec/2020:15:23...| 42.236.10.125|\n",
      "|19/Dec/2020:15:23...| 42.236.10.125|\n",
      "|19/Dec/2020:15:23...| 42.236.10.125|\n",
      "|19/Dec/2020:15:23...| 42.236.10.125|\n",
      "|19/Dec/2020:15:23...| 42.236.10.117|\n",
      "|19/Dec/2020:15:23...| 42.236.10.114|\n",
      "|19/Dec/2020:15:23...| 42.236.10.114|\n",
      "+--------------------+--------------+\n",
      "only showing top 20 rows\n",
      "\n"
     ]
    }
   ],
   "source": [
    "out_df.show()"
   ]
  },
  {
   "cell_type": "code",
   "execution_count": 38,
   "id": "371749a4",
   "metadata": {},
   "outputs": [
    {
     "name": "stderr",
     "output_type": "stream",
     "text": [
      "                                                                                \r"
     ]
    }
   ],
   "source": [
    "out_df.repartition(1).write.options(header='True'\n",
    "                                     , delimiter='\\t'\n",
    "                                    ).csv('wrangled_log/only_host_large/')"
   ]
  },
  {
   "cell_type": "code",
   "execution_count": 1,
   "id": "c2d0f708",
   "metadata": {},
   "outputs": [
    {
     "name": "stdout",
     "output_type": "stream",
     "text": [
      "total 322760\r\n",
      "drwxr-xr-x  10 anmolpal  staff   320B Dec  7 00:58 \u001b[34m..\u001b[m\u001b[m\r\n",
      "-rw-r--r--   1 anmolpal  staff   1.2M Dec  7 00:58 .part-00000-e3a8b0af-89cb-4326-bf86-018fe738bd2a-c000.csv.crc\r\n",
      "-rw-r--r--   1 anmolpal  staff   147M Dec  7 00:58 part-00000-e3a8b0af-89cb-4326-bf86-018fe738bd2a-c000.csv\r\n",
      "-rw-r--r--   1 anmolpal  staff     0B Dec  7 00:58 _SUCCESS\r\n",
      "drwxr-xr-x   6 anmolpal  staff   192B Dec  7 00:58 \u001b[34m.\u001b[m\u001b[m\r\n",
      "-rw-r--r--   1 anmolpal  staff     8B Dec  7 00:58 ._SUCCESS.crc\r\n"
     ]
    }
   ],
   "source": [
    "!ls -ltarh wrangled_log/only_host_large/"
   ]
  },
  {
   "cell_type": "code",
   "execution_count": null,
   "id": "17702f94",
   "metadata": {},
   "outputs": [],
   "source": []
  }
 ],
 "metadata": {
  "kernelspec": {
   "display_name": "Python 3 (ipykernel)",
   "language": "python",
   "name": "python3"
  },
  "language_info": {
   "codemirror_mode": {
    "name": "ipython",
    "version": 3
   },
   "file_extension": ".py",
   "mimetype": "text/x-python",
   "name": "python",
   "nbconvert_exporter": "python",
   "pygments_lexer": "ipython3",
   "version": "3.10.6"
  }
 },
 "nbformat": 4,
 "nbformat_minor": 5
}
